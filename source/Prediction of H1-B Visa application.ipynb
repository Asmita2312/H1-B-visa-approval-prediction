{
 "cells": [
  {
   "cell_type": "code",
   "execution_count": 1,
   "metadata": {},
   "outputs": [],
   "source": [
    "import pandas \n",
    "import numpy\n",
    "import matplotlib.pyplot as plt\n",
    "import matplotlib.pylab as plt\n",
    "import sklearn\n",
    "from sklearn.preprocessing import Normalizer\n",
    "from sklearn.linear_model import LogisticRegression\n",
    "from sklearn.model_selection import train_test_split\n",
    "from sklearn.metrics import confusion_matrix\n",
    "import seaborn as sns"
   ]
  },
  {
   "cell_type": "code",
   "execution_count": 2,
   "metadata": {},
   "outputs": [],
   "source": [
    "################################# Preprocessing steps ###############################"
   ]
  },
  {
   "cell_type": "code",
   "execution_count": 2,
   "metadata": {},
   "outputs": [
    {
     "data": {
      "text/html": [
       "<div>\n",
       "<style scoped>\n",
       "    .dataframe tbody tr th:only-of-type {\n",
       "        vertical-align: middle;\n",
       "    }\n",
       "\n",
       "    .dataframe tbody tr th {\n",
       "        vertical-align: top;\n",
       "    }\n",
       "\n",
       "    .dataframe thead th {\n",
       "        text-align: right;\n",
       "    }\n",
       "</style>\n",
       "<table border=\"1\" class=\"dataframe\">\n",
       "  <thead>\n",
       "    <tr style=\"text-align: right;\">\n",
       "      <th></th>\n",
       "      <th>CASE_STATUS</th>\n",
       "      <th>VISA_CLASS</th>\n",
       "      <th>EMPLOYER_NAME</th>\n",
       "      <th>EMPLOYER_ADDRESS</th>\n",
       "      <th>EMPLOYER_CITY</th>\n",
       "      <th>EMPLOYER_STATE</th>\n",
       "      <th>EMPLOYER_COUNTRY</th>\n",
       "      <th>SECONDARY_ENTITY</th>\n",
       "      <th>AGENT_REPRESENTING_EMPLOYER</th>\n",
       "      <th>JOB_TITLE</th>\n",
       "      <th>...</th>\n",
       "      <th>CONTINUED_EMPLOYMENT</th>\n",
       "      <th>NEW_CONCURRENT_EMPLOYMENT</th>\n",
       "      <th>CHANGE_EMPLOYER</th>\n",
       "      <th>FULL_TIME_POSITION</th>\n",
       "      <th>PREVAILING_WAGE</th>\n",
       "      <th>PW_UNIT_OF_PAY</th>\n",
       "      <th>WAGE_UNIT_OF_PAY</th>\n",
       "      <th>H1B_DEPENDENT</th>\n",
       "      <th>WORKSITE_CITY</th>\n",
       "      <th>WORKSITE_STATE</th>\n",
       "    </tr>\n",
       "  </thead>\n",
       "  <tbody>\n",
       "    <tr>\n",
       "      <td>664610</td>\n",
       "      <td>DENIED</td>\n",
       "      <td>H-1B</td>\n",
       "      <td>THRIVE GLOBAL HOLDINGS, INC.</td>\n",
       "      <td>100 CROSBY STREET</td>\n",
       "      <td>NEW YORK</td>\n",
       "      <td>NY</td>\n",
       "      <td>UNITED STATES OF AMERICA</td>\n",
       "      <td>Y</td>\n",
       "      <td>Y</td>\n",
       "      <td>DIRECTOR OF SOCIAL MEDIA</td>\n",
       "      <td>...</td>\n",
       "      <td>0</td>\n",
       "      <td>0</td>\n",
       "      <td>0</td>\n",
       "      <td>Y</td>\n",
       "      <td>$8.25</td>\n",
       "      <td>Hour</td>\n",
       "      <td>Hour</td>\n",
       "      <td>N</td>\n",
       "      <td>NEW YORK</td>\n",
       "      <td>NY</td>\n",
       "    </tr>\n",
       "    <tr>\n",
       "      <td>664611</td>\n",
       "      <td>DENIED</td>\n",
       "      <td>H-1B</td>\n",
       "      <td>TASACOM TECHNOLOGIES, INC.</td>\n",
       "      <td>13151 EMILY RD.</td>\n",
       "      <td>DALLAS</td>\n",
       "      <td>TX</td>\n",
       "      <td>UNITED STATES OF AMERICA</td>\n",
       "      <td>Y</td>\n",
       "      <td>N</td>\n",
       "      <td>SOFTWARE SYSTEM ENGINEER</td>\n",
       "      <td>...</td>\n",
       "      <td>0</td>\n",
       "      <td>0</td>\n",
       "      <td>0</td>\n",
       "      <td>Y</td>\n",
       "      <td>$8.25</td>\n",
       "      <td>Hour</td>\n",
       "      <td>Hour</td>\n",
       "      <td>Y</td>\n",
       "      <td>DALLAS</td>\n",
       "      <td>TX</td>\n",
       "    </tr>\n",
       "    <tr>\n",
       "      <td>664612</td>\n",
       "      <td>DENIED</td>\n",
       "      <td>H-1B</td>\n",
       "      <td>VALIDITY GREEN INC</td>\n",
       "      <td>40 WEST 38 STREET</td>\n",
       "      <td>NEW YORK</td>\n",
       "      <td>NY</td>\n",
       "      <td>UNITED STATES OF AMERICA</td>\n",
       "      <td>Y</td>\n",
       "      <td>N</td>\n",
       "      <td>PROJECT MANAGER</td>\n",
       "      <td>...</td>\n",
       "      <td>0</td>\n",
       "      <td>0</td>\n",
       "      <td>0</td>\n",
       "      <td>Y</td>\n",
       "      <td>$8.25</td>\n",
       "      <td>Hour</td>\n",
       "      <td>Hour</td>\n",
       "      <td>N</td>\n",
       "      <td>NEW YORK</td>\n",
       "      <td>NY</td>\n",
       "    </tr>\n",
       "    <tr>\n",
       "      <td>664613</td>\n",
       "      <td>WITHDRAWN</td>\n",
       "      <td>H-1B</td>\n",
       "      <td>ENTERGY SERVICES, LLC</td>\n",
       "      <td>639 LOYOLA AVENUE, L-ENT-14K</td>\n",
       "      <td>NEW ORLEANS</td>\n",
       "      <td>LA</td>\n",
       "      <td>UNITED STATES OF AMERICA</td>\n",
       "      <td>Y</td>\n",
       "      <td>Y</td>\n",
       "      <td>ENGINEER III</td>\n",
       "      <td>...</td>\n",
       "      <td>0</td>\n",
       "      <td>0</td>\n",
       "      <td>0</td>\n",
       "      <td>Y</td>\n",
       "      <td>$8.25</td>\n",
       "      <td>Hour</td>\n",
       "      <td>Hour</td>\n",
       "      <td>N</td>\n",
       "      <td>NEW ORLEANS</td>\n",
       "      <td>LA</td>\n",
       "    </tr>\n",
       "    <tr>\n",
       "      <td>664614</td>\n",
       "      <td>CERTIFIED</td>\n",
       "      <td>H-1B</td>\n",
       "      <td>IMINDS TECHNOLOGY SYSTEMS INC.</td>\n",
       "      <td>1145 BOWER HILL ROAD</td>\n",
       "      <td>PITTSBURGH</td>\n",
       "      <td>PA</td>\n",
       "      <td>UNITED STATES OF AMERICA</td>\n",
       "      <td>Y</td>\n",
       "      <td>Y</td>\n",
       "      <td>JAVA DEVELOPER</td>\n",
       "      <td>...</td>\n",
       "      <td>0</td>\n",
       "      <td>0</td>\n",
       "      <td>0</td>\n",
       "      <td>Y</td>\n",
       "      <td>$8.25</td>\n",
       "      <td>Hour</td>\n",
       "      <td>Hour</td>\n",
       "      <td>N</td>\n",
       "      <td>PITTSBURGH</td>\n",
       "      <td>PA</td>\n",
       "    </tr>\n",
       "  </tbody>\n",
       "</table>\n",
       "<p>5 rows × 23 columns</p>\n",
       "</div>"
      ],
      "text/plain": [
       "       CASE_STATUS VISA_CLASS                   EMPLOYER_NAME  \\\n",
       "664610      DENIED       H-1B    THRIVE GLOBAL HOLDINGS, INC.   \n",
       "664611      DENIED       H-1B      TASACOM TECHNOLOGIES, INC.   \n",
       "664612      DENIED       H-1B              VALIDITY GREEN INC   \n",
       "664613   WITHDRAWN       H-1B           ENTERGY SERVICES, LLC   \n",
       "664614   CERTIFIED       H-1B  IMINDS TECHNOLOGY SYSTEMS INC.   \n",
       "\n",
       "                    EMPLOYER_ADDRESS EMPLOYER_CITY EMPLOYER_STATE  \\\n",
       "664610             100 CROSBY STREET      NEW YORK             NY   \n",
       "664611               13151 EMILY RD.        DALLAS             TX   \n",
       "664612             40 WEST 38 STREET      NEW YORK             NY   \n",
       "664613  639 LOYOLA AVENUE, L-ENT-14K   NEW ORLEANS             LA   \n",
       "664614          1145 BOWER HILL ROAD    PITTSBURGH             PA   \n",
       "\n",
       "                EMPLOYER_COUNTRY SECONDARY_ENTITY AGENT_REPRESENTING_EMPLOYER  \\\n",
       "664610  UNITED STATES OF AMERICA                Y                           Y   \n",
       "664611  UNITED STATES OF AMERICA                Y                           N   \n",
       "664612  UNITED STATES OF AMERICA                Y                           N   \n",
       "664613  UNITED STATES OF AMERICA                Y                           Y   \n",
       "664614  UNITED STATES OF AMERICA                Y                           Y   \n",
       "\n",
       "                       JOB_TITLE  ... CONTINUED_EMPLOYMENT  \\\n",
       "664610  DIRECTOR OF SOCIAL MEDIA  ...                    0   \n",
       "664611  SOFTWARE SYSTEM ENGINEER  ...                    0   \n",
       "664612           PROJECT MANAGER  ...                    0   \n",
       "664613              ENGINEER III  ...                    0   \n",
       "664614            JAVA DEVELOPER  ...                    0   \n",
       "\n",
       "        NEW_CONCURRENT_EMPLOYMENT  CHANGE_EMPLOYER  FULL_TIME_POSITION  \\\n",
       "664610                          0                0                   Y   \n",
       "664611                          0                0                   Y   \n",
       "664612                          0                0                   Y   \n",
       "664613                          0                0                   Y   \n",
       "664614                          0                0                   Y   \n",
       "\n",
       "        PREVAILING_WAGE  PW_UNIT_OF_PAY WAGE_UNIT_OF_PAY H1B_DEPENDENT  \\\n",
       "664610           $8.25             Hour             Hour             N   \n",
       "664611           $8.25             Hour             Hour             Y   \n",
       "664612           $8.25             Hour             Hour             N   \n",
       "664613           $8.25             Hour             Hour             N   \n",
       "664614           $8.25             Hour             Hour             N   \n",
       "\n",
       "       WORKSITE_CITY WORKSITE_STATE  \n",
       "664610      NEW YORK             NY  \n",
       "664611        DALLAS             TX  \n",
       "664612      NEW YORK             NY  \n",
       "664613   NEW ORLEANS             LA  \n",
       "664614    PITTSBURGH             PA  \n",
       "\n",
       "[5 rows x 23 columns]"
      ]
     },
     "execution_count": 2,
     "metadata": {},
     "output_type": "execute_result"
    }
   ],
   "source": [
    "# There were total 49 features in the original dataset. I have taken 24 coulmns but again dropped one column as there were 80% \n",
    "# Nan values in 'worksite_county' column\n",
    "\n",
    "visa_df = pandas.read_csv('C:\\\\Users\\\\Administrator\\\\Desktop\\\\2019_copy1.csv', engine='python')\n",
    "visa_df = visa_df.drop(columns=['WORKSITE_COUNTY'])\n",
    "visa_df.tail()"
   ]
  },
  {
   "cell_type": "code",
   "execution_count": 3,
   "metadata": {},
   "outputs": [
    {
     "data": {
      "text/html": [
       "<div>\n",
       "<style scoped>\n",
       "    .dataframe tbody tr th:only-of-type {\n",
       "        vertical-align: middle;\n",
       "    }\n",
       "\n",
       "    .dataframe tbody tr th {\n",
       "        vertical-align: top;\n",
       "    }\n",
       "\n",
       "    .dataframe thead th {\n",
       "        text-align: right;\n",
       "    }\n",
       "</style>\n",
       "<table border=\"1\" class=\"dataframe\">\n",
       "  <thead>\n",
       "    <tr style=\"text-align: right;\">\n",
       "      <th></th>\n",
       "      <th>index</th>\n",
       "      <th>CASE_STATUS</th>\n",
       "      <th>VISA_CLASS</th>\n",
       "      <th>EMPLOYER_NAME</th>\n",
       "      <th>EMPLOYER_ADDRESS</th>\n",
       "      <th>EMPLOYER_CITY</th>\n",
       "      <th>EMPLOYER_STATE</th>\n",
       "      <th>EMPLOYER_COUNTRY</th>\n",
       "      <th>SECONDARY_ENTITY</th>\n",
       "      <th>AGENT_REPRESENTING_EMPLOYER</th>\n",
       "      <th>...</th>\n",
       "      <th>CONTINUED_EMPLOYMENT</th>\n",
       "      <th>NEW_CONCURRENT_EMPLOYMENT</th>\n",
       "      <th>CHANGE_EMPLOYER</th>\n",
       "      <th>FULL_TIME_POSITION</th>\n",
       "      <th>PREVAILING_WAGE</th>\n",
       "      <th>PW_UNIT_OF_PAY</th>\n",
       "      <th>WAGE_UNIT_OF_PAY</th>\n",
       "      <th>H1B_DEPENDENT</th>\n",
       "      <th>WORKSITE_CITY</th>\n",
       "      <th>WORKSITE_STATE</th>\n",
       "    </tr>\n",
       "  </thead>\n",
       "  <tbody>\n",
       "    <tr>\n",
       "      <td>603719</td>\n",
       "      <td>664604</td>\n",
       "      <td>CERTIFIED</td>\n",
       "      <td>H-1B</td>\n",
       "      <td>GOLDMAN SACHS &amp; CO. LLC</td>\n",
       "      <td>30 HUDSON STREET</td>\n",
       "      <td>JERSEY CITY</td>\n",
       "      <td>NJ</td>\n",
       "      <td>UNITED STATES OF AMERICA</td>\n",
       "      <td>N</td>\n",
       "      <td>Y</td>\n",
       "      <td>...</td>\n",
       "      <td>1</td>\n",
       "      <td>0</td>\n",
       "      <td>0</td>\n",
       "      <td>Y</td>\n",
       "      <td>$154,190.00</td>\n",
       "      <td>Year</td>\n",
       "      <td>Year</td>\n",
       "      <td>N</td>\n",
       "      <td>NEW YORK</td>\n",
       "      <td>NY</td>\n",
       "    </tr>\n",
       "    <tr>\n",
       "      <td>603720</td>\n",
       "      <td>664610</td>\n",
       "      <td>DENIED</td>\n",
       "      <td>H-1B</td>\n",
       "      <td>THRIVE GLOBAL HOLDINGS, INC.</td>\n",
       "      <td>100 CROSBY STREET</td>\n",
       "      <td>NEW YORK</td>\n",
       "      <td>NY</td>\n",
       "      <td>UNITED STATES OF AMERICA</td>\n",
       "      <td>Y</td>\n",
       "      <td>Y</td>\n",
       "      <td>...</td>\n",
       "      <td>0</td>\n",
       "      <td>0</td>\n",
       "      <td>0</td>\n",
       "      <td>Y</td>\n",
       "      <td>$8.25</td>\n",
       "      <td>Hour</td>\n",
       "      <td>Hour</td>\n",
       "      <td>N</td>\n",
       "      <td>NEW YORK</td>\n",
       "      <td>NY</td>\n",
       "    </tr>\n",
       "    <tr>\n",
       "      <td>603721</td>\n",
       "      <td>664611</td>\n",
       "      <td>DENIED</td>\n",
       "      <td>H-1B</td>\n",
       "      <td>TASACOM TECHNOLOGIES, INC.</td>\n",
       "      <td>13151 EMILY RD.</td>\n",
       "      <td>DALLAS</td>\n",
       "      <td>TX</td>\n",
       "      <td>UNITED STATES OF AMERICA</td>\n",
       "      <td>Y</td>\n",
       "      <td>N</td>\n",
       "      <td>...</td>\n",
       "      <td>0</td>\n",
       "      <td>0</td>\n",
       "      <td>0</td>\n",
       "      <td>Y</td>\n",
       "      <td>$8.25</td>\n",
       "      <td>Hour</td>\n",
       "      <td>Hour</td>\n",
       "      <td>Y</td>\n",
       "      <td>DALLAS</td>\n",
       "      <td>TX</td>\n",
       "    </tr>\n",
       "    <tr>\n",
       "      <td>603722</td>\n",
       "      <td>664612</td>\n",
       "      <td>DENIED</td>\n",
       "      <td>H-1B</td>\n",
       "      <td>VALIDITY GREEN INC</td>\n",
       "      <td>40 WEST 38 STREET</td>\n",
       "      <td>NEW YORK</td>\n",
       "      <td>NY</td>\n",
       "      <td>UNITED STATES OF AMERICA</td>\n",
       "      <td>Y</td>\n",
       "      <td>N</td>\n",
       "      <td>...</td>\n",
       "      <td>0</td>\n",
       "      <td>0</td>\n",
       "      <td>0</td>\n",
       "      <td>Y</td>\n",
       "      <td>$8.25</td>\n",
       "      <td>Hour</td>\n",
       "      <td>Hour</td>\n",
       "      <td>N</td>\n",
       "      <td>NEW YORK</td>\n",
       "      <td>NY</td>\n",
       "    </tr>\n",
       "    <tr>\n",
       "      <td>603723</td>\n",
       "      <td>664614</td>\n",
       "      <td>CERTIFIED</td>\n",
       "      <td>H-1B</td>\n",
       "      <td>IMINDS TECHNOLOGY SYSTEMS INC.</td>\n",
       "      <td>1145 BOWER HILL ROAD</td>\n",
       "      <td>PITTSBURGH</td>\n",
       "      <td>PA</td>\n",
       "      <td>UNITED STATES OF AMERICA</td>\n",
       "      <td>Y</td>\n",
       "      <td>Y</td>\n",
       "      <td>...</td>\n",
       "      <td>0</td>\n",
       "      <td>0</td>\n",
       "      <td>0</td>\n",
       "      <td>Y</td>\n",
       "      <td>$8.25</td>\n",
       "      <td>Hour</td>\n",
       "      <td>Hour</td>\n",
       "      <td>N</td>\n",
       "      <td>PITTSBURGH</td>\n",
       "      <td>PA</td>\n",
       "    </tr>\n",
       "  </tbody>\n",
       "</table>\n",
       "<p>5 rows × 24 columns</p>\n",
       "</div>"
      ],
      "text/plain": [
       "         index CASE_STATUS VISA_CLASS                   EMPLOYER_NAME  \\\n",
       "603719  664604   CERTIFIED       H-1B         GOLDMAN SACHS & CO. LLC   \n",
       "603720  664610      DENIED       H-1B    THRIVE GLOBAL HOLDINGS, INC.   \n",
       "603721  664611      DENIED       H-1B      TASACOM TECHNOLOGIES, INC.   \n",
       "603722  664612      DENIED       H-1B              VALIDITY GREEN INC   \n",
       "603723  664614   CERTIFIED       H-1B  IMINDS TECHNOLOGY SYSTEMS INC.   \n",
       "\n",
       "            EMPLOYER_ADDRESS EMPLOYER_CITY EMPLOYER_STATE  \\\n",
       "603719      30 HUDSON STREET   JERSEY CITY             NJ   \n",
       "603720     100 CROSBY STREET      NEW YORK             NY   \n",
       "603721       13151 EMILY RD.        DALLAS             TX   \n",
       "603722     40 WEST 38 STREET      NEW YORK             NY   \n",
       "603723  1145 BOWER HILL ROAD    PITTSBURGH             PA   \n",
       "\n",
       "                EMPLOYER_COUNTRY SECONDARY_ENTITY AGENT_REPRESENTING_EMPLOYER  \\\n",
       "603719  UNITED STATES OF AMERICA                N                           Y   \n",
       "603720  UNITED STATES OF AMERICA                Y                           Y   \n",
       "603721  UNITED STATES OF AMERICA                Y                           N   \n",
       "603722  UNITED STATES OF AMERICA                Y                           N   \n",
       "603723  UNITED STATES OF AMERICA                Y                           Y   \n",
       "\n",
       "        ... CONTINUED_EMPLOYMENT NEW_CONCURRENT_EMPLOYMENT  CHANGE_EMPLOYER  \\\n",
       "603719  ...                    1                         0                0   \n",
       "603720  ...                    0                         0                0   \n",
       "603721  ...                    0                         0                0   \n",
       "603722  ...                    0                         0                0   \n",
       "603723  ...                    0                         0                0   \n",
       "\n",
       "        FULL_TIME_POSITION  PREVAILING_WAGE  PW_UNIT_OF_PAY  WAGE_UNIT_OF_PAY  \\\n",
       "603719                   Y     $154,190.00             Year              Year   \n",
       "603720                   Y           $8.25             Hour              Hour   \n",
       "603721                   Y           $8.25             Hour              Hour   \n",
       "603722                   Y           $8.25             Hour              Hour   \n",
       "603723                   Y           $8.25             Hour              Hour   \n",
       "\n",
       "       H1B_DEPENDENT WORKSITE_CITY WORKSITE_STATE  \n",
       "603719             N      NEW YORK             NY  \n",
       "603720             N      NEW YORK             NY  \n",
       "603721             Y        DALLAS             TX  \n",
       "603722             N      NEW YORK             NY  \n",
       "603723             N    PITTSBURGH             PA  \n",
       "\n",
       "[5 rows x 24 columns]"
      ]
     },
     "execution_count": 3,
     "metadata": {},
     "output_type": "execute_result"
    }
   ],
   "source": [
    "# Case_status had 3 values- 'denied', 'certified', 'withdrawn'.\n",
    "# I am interested in only 'denied' and 'certified' so I ommited rows with 'withdrawn' status\n",
    "\n",
    "visa_df = visa_df[visa_df['CASE_STATUS'].isin(['DENIED','CERTIFIED'])].reset_index()\n",
    "visa_df.tail()"
   ]
  },
  {
   "cell_type": "code",
   "execution_count": 4,
   "metadata": {},
   "outputs": [],
   "source": [
    "# Taking care of punctuation marks\n",
    "\n",
    "visa_df['EMPLOYER_NAME'] = visa_df['EMPLOYER_NAME'].str.replace('[' , ']','')\n",
    "visa_df['EMPLOYER_ADDRESS'] = visa_df['EMPLOYER_ADDRESS'].str.replace('[^\\w\\s]','')"
   ]
  },
  {
   "cell_type": "code",
   "execution_count": 6,
   "metadata": {},
   "outputs": [],
   "source": [
    "### Changing data type of all columns"
   ]
  },
  {
   "cell_type": "code",
   "execution_count": 5,
   "metadata": {},
   "outputs": [],
   "source": [
    "for column in visa_df.columns:\n",
    "    if visa_df[column].dtype == type(object):\n",
    "        le = sklearn.preprocessing.LabelEncoder()\n",
    "        #visa_df[column] = le.fit_transform(visa_df[column])\n",
    "        visa_df = visa_df.apply(lambda column: le.fit_transform(column.astype(str)), axis=0, result_type='expand')"
   ]
  },
  {
   "cell_type": "code",
   "execution_count": 8,
   "metadata": {},
   "outputs": [],
   "source": [
    "####################### Splitting data into training and validation data ########################################"
   ]
  },
  {
   "cell_type": "code",
   "execution_count": 6,
   "metadata": {},
   "outputs": [
    {
     "data": {
      "text/plain": [
       "((603724, 23), (603724,))"
      ]
     },
     "execution_count": 6,
     "metadata": {},
     "output_type": "execute_result"
    }
   ],
   "source": [
    "x = visa_df.drop(columns=['CASE_STATUS'])\n",
    "y = visa_df['CASE_STATUS']\n",
    "x.shape,y.shape"
   ]
  },
  {
   "cell_type": "code",
   "execution_count": 7,
   "metadata": {},
   "outputs": [],
   "source": [
    "x_train, x_test, y_train, y_test = train_test_split(x, y, test_size=0.4, random_state=5)"
   ]
  },
  {
   "cell_type": "code",
   "execution_count": 11,
   "metadata": {},
   "outputs": [],
   "source": [
    "################################## Correlation Matrix ###################################"
   ]
  },
  {
   "cell_type": "code",
   "execution_count": 9,
   "metadata": {},
   "outputs": [
    {
     "data": {
      "text/plain": [
       "<matplotlib.axes._subplots.AxesSubplot at 0x1ddf3bf4ec8>"
      ]
     },
     "execution_count": 9,
     "metadata": {},
     "output_type": "execute_result"
    },
    {
     "data": {
      "image/png": "[encoded data removed]",
      "text/plain": [
       "<Figure size 432x288 with 2 Axes>"
      ]
     },
     "metadata": {
      "needs_background": "light"
     },
     "output_type": "display_data"
    }
   ],
   "source": [
    "corrMatrix = visa_df.corr()\n",
    "sns.heatmap(corrMatrix)"
   ]
  },
  {
   "cell_type": "code",
   "execution_count": 13,
   "metadata": {},
   "outputs": [],
   "source": [
    "################################## Logistic Regression #######################################"
   ]
  },
  {
   "cell_type": "code",
   "execution_count": 10,
   "metadata": {},
   "outputs": [
    {
     "name": "stderr",
     "output_type": "stream",
     "text": [
      "C:\\Users\\Administrator\\Anaconda3\\lib\\site-packages\\sklearn\\linear_model\\logistic.py:432: FutureWarning: Default solver will be changed to 'lbfgs' in 0.22. Specify a solver to silence this warning.\n",
      "  FutureWarning)\n"
     ]
    }
   ],
   "source": [
    "reg = LogisticRegression()\n",
    "reg.fit(x_train,y_train)\n",
    "y_pred = reg.predict_proba(x_test)"
   ]
  },
  {
   "cell_type": "code",
   "execution_count": 11,
   "metadata": {},
   "outputs": [
    {
     "data": {
      "text/plain": [
       "0.9902389171210686"
      ]
     },
     "execution_count": 11,
     "metadata": {},
     "output_type": "execute_result"
    }
   ],
   "source": [
    "reg.score(x,y)"
   ]
  },
  {
   "cell_type": "code",
   "execution_count": 12,
   "metadata": {},
   "outputs": [
    {
     "data": {
      "text/plain": [
       "array([[239120,      0],\n",
       "       [  2370,      0]], dtype=int64)"
      ]
     },
     "execution_count": 12,
     "metadata": {},
     "output_type": "execute_result"
    }
   ],
   "source": [
    "confusion_mat = confusion_matrix(y_test, y_pred[:, 1] > 0.5)\n",
    "confusion_mat"
   ]
  },
  {
   "cell_type": "code",
   "execution_count": null,
   "metadata": {},
   "outputs": [],
   "source": [
    "## There are no false negative and true negative predictions. However, there are few flase positive values."
   ]
  },
  {
   "cell_type": "code",
   "execution_count": 17,
   "metadata": {},
   "outputs": [],
   "source": [
    "######################################### Naive Bayes ########################################"
   ]
  },
  {
   "cell_type": "code",
   "execution_count": 13,
   "metadata": {},
   "outputs": [],
   "source": [
    "from sklearn.naive_bayes import BernoulliNB\n",
    "from sklearn.naive_bayes import GaussianNB"
   ]
  },
  {
   "cell_type": "code",
   "execution_count": 14,
   "metadata": {},
   "outputs": [],
   "source": [
    "gnb = GaussianNB()\n",
    "gnb.fit(x_train,y_train)\n",
    "y_pred = gnb.predict(x_test)"
   ]
  },
  {
   "cell_type": "code",
   "execution_count": 15,
   "metadata": {},
   "outputs": [
    {
     "name": "stdout",
     "output_type": "stream",
     "text": [
      "Number of mislabeled points out of a total 241490 points : 2378\n"
     ]
    }
   ],
   "source": [
    "print(\"Number of mislabeled points out of a total %d points : %d\" % (x_test.shape[0], (y_test != y_pred).sum()))"
   ]
  },
  {
   "cell_type": "code",
   "execution_count": 16,
   "metadata": {},
   "outputs": [],
   "source": [
    "bnb = BernoulliNB()\n",
    "bnb.fit(x_train,y_train)\n",
    "y_pred1 = bnb.predict(x_test)"
   ]
  },
  {
   "cell_type": "code",
   "execution_count": 17,
   "metadata": {},
   "outputs": [
    {
     "name": "stdout",
     "output_type": "stream",
     "text": [
      "Number of mislabeled points out of a total 241490 points : 2415\n"
     ]
    }
   ],
   "source": [
    "print(\"Number of mislabeled points out of a total %d points : %d\" % (x_test.shape[0], (y_test != y_pred1).sum()))"
   ]
  },
  {
   "cell_type": "code",
   "execution_count": 23,
   "metadata": {},
   "outputs": [],
   "source": [
    "################################ Ensemble Implementation #######################################"
   ]
  },
  {
   "cell_type": "code",
   "execution_count": 8,
   "metadata": {},
   "outputs": [],
   "source": [
    "from sklearn.tree import DecisionTreeClassifier\n",
    "from sklearn.ensemble import AdaBoostClassifier\n",
    "from sklearn.ensemble import BaggingClassifier\n",
    "from sklearn.ensemble import GradientBoostingClassifier\n",
    "import xgboost as xgb\n",
    "from xgboost.sklearn import XGBClassifier\n",
    "from sklearn.ensemble import RandomForestClassifier\n",
    "from sklearn.metrics import mean_absolute_error\n",
    "from sklearn import tree\n",
    "from sklearn.tree import plot_tree\n",
    "from xgboost import plot_importance\n",
    "from IPython.display import Image \n",
    "from sklearn.tree import export_graphviz\n",
    "import pydotplus"
   ]
  },
  {
   "cell_type": "code",
   "execution_count": 25,
   "metadata": {},
   "outputs": [],
   "source": [
    "######################################### DecisionTreeClassifier implementation ######################"
   ]
  },
  {
   "cell_type": "code",
   "execution_count": 9,
   "metadata": {},
   "outputs": [
    {
     "name": "stdout",
     "output_type": "stream",
     "text": [
      "Training set Accuracy: 1.00\n",
      "Testing set Accuracy: 0.98\n",
      "Mean Absolute Error: 0.02\n"
     ]
    }
   ],
   "source": [
    "DT_clf = DecisionTreeClassifier()\n",
    "DT_clf = DT_clf.fit(x_train,y_train)\n",
    "y_results = DT_clf.predict(x_test)\n",
    "    \n",
    "print(\"Training set Accuracy: {:.2f}\".format(DT_clf.score(x_train , y_train)))\n",
    "print(\"Testing set Accuracy: {:.2f}\".format(DT_clf.score(x_test , y_test)))\n",
    "#print(\"Testing set Accuracy: {:.2f}\".format(DT_clf.score(x_test , y_results)))\n",
    "print(\"Mean Absolute Error: {:.2f}\".format(mean_absolute_error(y_test , y_results)))"
   ]
  },
  {
   "cell_type": "code",
   "execution_count": 10,
   "metadata": {},
   "outputs": [
    {
     "data": {
      "image/png": "[encoded data removed]",
      "text/plain": [
       "<Figure size 432x288 with 2 Axes>"
      ]
     },
     "metadata": {
      "needs_background": "light"
     },
     "output_type": "display_data"
    }
   ],
   "source": [
    "import matplotlib.pyplot as plt\n",
    "import seaborn as sn\n",
    "\n",
    "# Initialize the array to zero which will store the confusion matrix\n",
    "array = [[0,0],[0,0]]\n",
    "\n",
    "# Calculate the confusion matrix\n",
    "c = confusion_matrix(y_test, y_results)\n",
    "# Add the score to the previous confusion matrix of previous model\n",
    "array = array + c\n",
    "# Create a pandas dataframe that stores the output of confusion matrix        \n",
    "df = pandas.DataFrame(array, index = ['DENIED', 'CERTIFIED'], columns = ['DENIED', 'CERTIFIED'])\n",
    "\n",
    "# Plot the heatmap\n",
    "sn.heatmap(df, annot=True, cmap='Greens', fmt='g')\n",
    "plt.xlabel('Predicted')\n",
    "plt.ylabel('Actual')\n",
    "plt.show()"
   ]
  },
  {
   "cell_type": "code",
   "execution_count": 28,
   "metadata": {},
   "outputs": [],
   "source": [
    "#To check if this is overfitting I will be using few more models and also combination of models"
   ]
  },
  {
   "cell_type": "code",
   "execution_count": 13,
   "metadata": {
    "scrolled": false
   },
   "outputs": [
    {
     "data": {
      "text/plain": [
       "[Text(167.4, 181.2, 'X[1] <= 0.5\\ngini = 0.019\\nsamples = 362234\\nvalue = [358711, 3523]'),\n",
       " Text(83.7, 108.72, 'X[8] <= 0.5\\ngini = 0.098\\nsamples = 7183\\nvalue = [6811, 372]'),\n",
       " Text(41.85, 36.23999999999998, '\\n  (...)  \\n'),\n",
       " Text(125.55000000000001, 36.23999999999998, '\\n  (...)  \\n'),\n",
       " Text(251.10000000000002, 108.72, 'X[20] <= 0.5\\ngini = 0.018\\nsamples = 355051\\nvalue = [351900, 3151]'),\n",
       " Text(209.25, 36.23999999999998, '\\n  (...)  \\n'),\n",
       " Text(292.95, 36.23999999999998, '\\n  (...)  \\n')]"
      ]
     },
     "execution_count": 13,
     "metadata": {},
     "output_type": "execute_result"
    },
    {
     "data": {
      "image/png": "[encoded data removed]",
      "text/plain": [
       "<Figure size 432x288 with 1 Axes>"
      ]
     },
     "metadata": {
      "needs_background": "light"
     },
     "output_type": "display_data"
    }
   ],
   "source": [
    "tree.plot_tree(DT_clf, max_depth=1)"
   ]
  },
  {
   "cell_type": "code",
   "execution_count": 12,
   "metadata": {},
   "outputs": [
    {
     "data": {
      "text/plain": [
       "<matplotlib.legend.Legend at 0x299001bfe48>"
      ]
     },
     "execution_count": 12,
     "metadata": {},
     "output_type": "execute_result"
    },
    {
     "data": {
      "image/png": "[encoded data removed]",
      "text/plain": [
       "<Figure size 432x288 with 1 Axes>"
      ]
     },
     "metadata": {
      "needs_background": "light"
     },
     "output_type": "display_data"
    }
   ],
   "source": [
    "#x = x.values\n",
    "pos , neg = (y==1).values.reshape(603724,1) , (y==0).values.reshape(603724,1)\n",
    "plt.scatter(x[pos[:,0],0],x[pos[:,0],1],c=\"r\",marker=\"+\")\n",
    "plt.scatter(x[neg[:,0],0],x[neg[:,0],1],marker=\"o\",s=10)\n",
    "plt.xlabel(\"Test 1\")\n",
    "plt.ylabel(\"Test 2\")\n",
    "plt.legend([\"Accepted\",\"Rejected\"],loc=0)"
   ]
  },
  {
   "cell_type": "code",
   "execution_count": 30,
   "metadata": {},
   "outputs": [],
   "source": [
    "########################## Random Forest Implementation #########################"
   ]
  },
  {
   "cell_type": "code",
   "execution_count": 30,
   "metadata": {},
   "outputs": [
    {
     "name": "stderr",
     "output_type": "stream",
     "text": [
      "C:\\Users\\Administrator\\Anaconda3\\lib\\site-packages\\sklearn\\ensemble\\forest.py:245: FutureWarning: The default value of n_estimators will change from 10 in version 0.20 to 100 in 0.22.\n",
      "  \"10 in version 0.20 to 100 in 0.22.\", FutureWarning)\n"
     ]
    },
    {
     "data": {
      "text/html": [
       "<div>\n",
       "<style scoped>\n",
       "    .dataframe tbody tr th:only-of-type {\n",
       "        vertical-align: middle;\n",
       "    }\n",
       "\n",
       "    .dataframe tbody tr th {\n",
       "        vertical-align: top;\n",
       "    }\n",
       "\n",
       "    .dataframe thead th {\n",
       "        text-align: right;\n",
       "    }\n",
       "</style>\n",
       "<table border=\"1\" class=\"dataframe\">\n",
       "  <thead>\n",
       "    <tr style=\"text-align: right;\">\n",
       "      <th></th>\n",
       "      <th>CASE_STATUS</th>\n",
       "      <th>prediction</th>\n",
       "      <th>error</th>\n",
       "    </tr>\n",
       "  </thead>\n",
       "  <tbody>\n",
       "    <tr>\n",
       "      <td>68636</td>\n",
       "      <td>0</td>\n",
       "      <td>0</td>\n",
       "      <td>0</td>\n",
       "    </tr>\n",
       "    <tr>\n",
       "      <td>435513</td>\n",
       "      <td>0</td>\n",
       "      <td>0</td>\n",
       "      <td>0</td>\n",
       "    </tr>\n",
       "    <tr>\n",
       "      <td>241694</td>\n",
       "      <td>0</td>\n",
       "      <td>0</td>\n",
       "      <td>0</td>\n",
       "    </tr>\n",
       "    <tr>\n",
       "      <td>326189</td>\n",
       "      <td>0</td>\n",
       "      <td>0</td>\n",
       "      <td>0</td>\n",
       "    </tr>\n",
       "    <tr>\n",
       "      <td>267928</td>\n",
       "      <td>0</td>\n",
       "      <td>0</td>\n",
       "      <td>0</td>\n",
       "    </tr>\n",
       "    <tr>\n",
       "      <td>391659</td>\n",
       "      <td>0</td>\n",
       "      <td>0</td>\n",
       "      <td>0</td>\n",
       "    </tr>\n",
       "    <tr>\n",
       "      <td>232064</td>\n",
       "      <td>0</td>\n",
       "      <td>0</td>\n",
       "      <td>0</td>\n",
       "    </tr>\n",
       "    <tr>\n",
       "      <td>197636</td>\n",
       "      <td>0</td>\n",
       "      <td>0</td>\n",
       "      <td>0</td>\n",
       "    </tr>\n",
       "    <tr>\n",
       "      <td>276486</td>\n",
       "      <td>0</td>\n",
       "      <td>0</td>\n",
       "      <td>0</td>\n",
       "    </tr>\n",
       "    <tr>\n",
       "      <td>415469</td>\n",
       "      <td>0</td>\n",
       "      <td>0</td>\n",
       "      <td>0</td>\n",
       "    </tr>\n",
       "    <tr>\n",
       "      <td>227436</td>\n",
       "      <td>0</td>\n",
       "      <td>0</td>\n",
       "      <td>0</td>\n",
       "    </tr>\n",
       "    <tr>\n",
       "      <td>328343</td>\n",
       "      <td>1</td>\n",
       "      <td>0</td>\n",
       "      <td>-1</td>\n",
       "    </tr>\n",
       "    <tr>\n",
       "      <td>548237</td>\n",
       "      <td>0</td>\n",
       "      <td>0</td>\n",
       "      <td>0</td>\n",
       "    </tr>\n",
       "    <tr>\n",
       "      <td>510869</td>\n",
       "      <td>0</td>\n",
       "      <td>0</td>\n",
       "      <td>0</td>\n",
       "    </tr>\n",
       "    <tr>\n",
       "      <td>31837</td>\n",
       "      <td>0</td>\n",
       "      <td>0</td>\n",
       "      <td>0</td>\n",
       "    </tr>\n",
       "    <tr>\n",
       "      <td>344302</td>\n",
       "      <td>0</td>\n",
       "      <td>0</td>\n",
       "      <td>0</td>\n",
       "    </tr>\n",
       "    <tr>\n",
       "      <td>204337</td>\n",
       "      <td>0</td>\n",
       "      <td>0</td>\n",
       "      <td>0</td>\n",
       "    </tr>\n",
       "    <tr>\n",
       "      <td>40721</td>\n",
       "      <td>0</td>\n",
       "      <td>0</td>\n",
       "      <td>0</td>\n",
       "    </tr>\n",
       "    <tr>\n",
       "      <td>365583</td>\n",
       "      <td>0</td>\n",
       "      <td>0</td>\n",
       "      <td>0</td>\n",
       "    </tr>\n",
       "    <tr>\n",
       "      <td>263252</td>\n",
       "      <td>0</td>\n",
       "      <td>0</td>\n",
       "      <td>0</td>\n",
       "    </tr>\n",
       "  </tbody>\n",
       "</table>\n",
       "</div>"
      ],
      "text/plain": [
       "        CASE_STATUS  prediction  error\n",
       "68636             0           0      0\n",
       "435513            0           0      0\n",
       "241694            0           0      0\n",
       "326189            0           0      0\n",
       "267928            0           0      0\n",
       "391659            0           0      0\n",
       "232064            0           0      0\n",
       "197636            0           0      0\n",
       "276486            0           0      0\n",
       "415469            0           0      0\n",
       "227436            0           0      0\n",
       "328343            1           0     -1\n",
       "548237            0           0      0\n",
       "510869            0           0      0\n",
       "31837             0           0      0\n",
       "344302            0           0      0\n",
       "204337            0           0      0\n",
       "40721             0           0      0\n",
       "365583            0           0      0\n",
       "263252            0           0      0"
      ]
     },
     "execution_count": 30,
     "metadata": {},
     "output_type": "execute_result"
    }
   ],
   "source": [
    "rf_clf = RandomForestClassifier()\n",
    "rf_clf.fit(x_train, y_train)\n",
    "\n",
    "y_results1 = pandas.DataFrame(y_test)\n",
    "y_results1['prediction'] = rf_clf.predict(x_test)\n",
    "y_results1['error'] = y_results1['prediction'] - y_results1['CASE_STATUS']\n",
    "y_results1.head(20)"
   ]
  },
  {
   "cell_type": "code",
   "execution_count": 31,
   "metadata": {},
   "outputs": [
    {
     "name": "stdout",
     "output_type": "stream",
     "text": [
      "Training set Accuracy: 1.00\n",
      "Testing set Accuracy: 0.99\n"
     ]
    }
   ],
   "source": [
    "print(\"Training set Accuracy: {:.2f}\".format(rf_clf.score(x_train , y_train)))\n",
    "print(\"Testing set Accuracy: {:.2f}\".format(rf_clf.score(x_test , y_test)))"
   ]
  },
  {
   "cell_type": "code",
   "execution_count": 33,
   "metadata": {},
   "outputs": [],
   "source": [
    "# As per assumption, Accuracy of Random forest model is better than decision tree "
   ]
  },
  {
   "cell_type": "code",
   "execution_count": 39,
   "metadata": {},
   "outputs": [],
   "source": [
    "############################ ADA boost classifier ############################"
   ]
  },
  {
   "cell_type": "code",
   "execution_count": 13,
   "metadata": {},
   "outputs": [
    {
     "name": "stdout",
     "output_type": "stream",
     "text": [
      "Training set Accuracy: 0.99\n",
      "Testing set Accuracy: 0.99\n",
      "Mean Absolute Error: 0.01\n"
     ]
    }
   ],
   "source": [
    "ADA_clf = AdaBoostClassifier(n_estimators = 100)\n",
    "ADA_clf = ADA_clf.fit(x_train, y_train)\n",
    "y_results_ADA = ADA_clf.predict(x_test)\n",
    "\n",
    "print(\"Training set Accuracy: {:.2f}\".format(ADA_clf.score(x_train , y_train)))\n",
    "print(\"Testing set Accuracy: {:.2f}\".format(ADA_clf.score(x_test , y_test)))\n",
    "print(\"Mean Absolute Error: {:.2f}\".format(mean_absolute_error(y_test , y_results_ADA)))"
   ]
  },
  {
   "cell_type": "code",
   "execution_count": 14,
   "metadata": {},
   "outputs": [
    {
     "name": "stdout",
     "output_type": "stream",
     "text": [
      "[0.99026888 0.99026875 0.99026875 0.99028242 0.99028242]\n"
     ]
    }
   ],
   "source": [
    "results = sklearn.model_selection.cross_val_score(ADA_clf, x_train, y_train, cv=5)\n",
    "print(results)"
   ]
  },
  {
   "cell_type": "code",
   "execution_count": 16,
   "metadata": {},
   "outputs": [
    {
     "name": "stdout",
     "output_type": "stream",
     "text": [
      "Correct Prediction:  239120\n",
      "Total Prediction:  603724\n"
     ]
    }
   ],
   "source": [
    "from sklearn.metrics import accuracy_score\n",
    "\n",
    "print('Correct Prediction: ', accuracy_score(y_test, y_results_ADA, normalize=False))\n",
    "print('Total Prediction: ', x.shape[0])"
   ]
  },
  {
   "cell_type": "code",
   "execution_count": 18,
   "metadata": {},
   "outputs": [
    {
     "data": {
      "image/png": "[encoded data removed]",
      "text/plain": [
       "<Figure size 396x288 with 2 Axes>"
      ]
     },
     "metadata": {
      "needs_background": "light"
     },
     "output_type": "display_data"
    }
   ],
   "source": [
    "cm = confusion_matrix(y_test, y_results_ADA) \n",
    "\n",
    "cm_df = pandas.DataFrame(cm,\n",
    "                     index = ['DENIED','CERTIFIED'], \n",
    "                     columns = ['DENIED','CERTIFIED'])\n",
    "\n",
    "plt.figure(figsize=(5.5,4))\n",
    "sns.heatmap(cm_df, annot=True)\n",
    "plt.title('Accuracy:{0:.3f}'.format(accuracy_score(y_test, y_results_ADA)))\n",
    "plt.ylabel('True label')\n",
    "plt.xlabel('Predicted label')\n",
    "plt.show()"
   ]
  },
  {
   "cell_type": "code",
   "execution_count": null,
   "metadata": {},
   "outputs": [],
   "source": [
    "########### Data regularization as accuracy was 99% for above models ###########"
   ]
  },
  {
   "cell_type": "code",
   "execution_count": 9,
   "metadata": {},
   "outputs": [
    {
     "name": "stderr",
     "output_type": "stream",
     "text": [
      "C:\\Users\\Administrator\\Anaconda3\\lib\\site-packages\\sklearn\\linear_model\\coordinate_descent.py:475: ConvergenceWarning: Objective did not converge. You might want to increase the number of iterations. Duality gap: 1730.473333699552, tolerance: 0.34887361567385355\n",
      "  positive)\n"
     ]
    },
    {
     "name": "stdout",
     "output_type": "stream",
     "text": [
      "Training score: 0.008293578102211985\n",
      "Test score: 0.0076052126626015015\n"
     ]
    }
   ],
   "source": [
    "from sklearn.preprocessing import PolynomialFeatures\n",
    "from sklearn.linear_model import Lasso\n",
    "from sklearn.pipeline import Pipeline\n",
    "\n",
    "\n",
    "steps = [('poly', PolynomialFeatures(degree=2)),\n",
    "         ('model', Lasso(alpha=0.3, fit_intercept=True))]\n",
    "\n",
    "lasso_pipe = Pipeline(steps)\n",
    "\n",
    "lasso_pipe.fit(x_train, y_train)\n",
    "\n",
    "print('Training score: {}'.format(lasso_pipe.score(x_train, y_train)))\n",
    "print('Test score: {}'.format(lasso_pipe.score(x_test, y_test)))"
   ]
  },
  {
   "cell_type": "code",
   "execution_count": null,
   "metadata": {},
   "outputs": [],
   "source": [
    "###################### ADA boost classifier and decision tree classifier after data regularization #################################"
   ]
  },
  {
   "cell_type": "code",
   "execution_count": 11,
   "metadata": {},
   "outputs": [
    {
     "name": "stdout",
     "output_type": "stream",
     "text": [
      "Training set Accuracy: 0.99\n",
      "Testing set Accuracy: 0.99\n",
      "Mean Absolute Error: 0.01\n"
     ]
    }
   ],
   "source": [
    "ADA_clf_new = AdaBoostClassifier(n_estimators = 70).fit(x_train, y_train)\n",
    "y_results_ADA1 = ADA_clf_new.predict(x_test)\n",
    "\n",
    "print(\"Training set Accuracy: {:.2f}\".format(ADA_clf_new.score(x_train , y_train)))\n",
    "print(\"Testing set Accuracy: {:.2f}\".format(ADA_clf_new.score(x_test , y_test)))\n",
    "print(\"Mean Absolute Error: {:.2f}\".format(mean_absolute_error(y_test , y_results_ADA1)))"
   ]
  },
  {
   "cell_type": "code",
   "execution_count": 12,
   "metadata": {},
   "outputs": [
    {
     "name": "stdout",
     "output_type": "stream",
     "text": [
      "Training set Accuracy: 1.00\n",
      "Testing set Accuracy: 0.98\n",
      "Mean Absolute Error: 0.02\n"
     ]
    }
   ],
   "source": [
    "DT_clf1 = DecisionTreeClassifier()\n",
    "DT_clf1 = DT_clf1.fit(x_train,y_train)\n",
    "y_results1 = DT_clf1.predict(x_test)\n",
    "    \n",
    "print(\"Training set Accuracy: {:.2f}\".format(DT_clf1.score(x_train , y_train)))\n",
    "print(\"Testing set Accuracy: {:.2f}\".format(DT_clf1.score(x_test , y_test)))\n",
    "#print(\"Testing set Accuracy: {:.2f}\".format(DT_clf.score(x_test , y_results)))\n",
    "print(\"Mean Absolute Error: {:.2f}\".format(mean_absolute_error(y_test , y_results1)))"
   ]
  },
  {
   "cell_type": "code",
   "execution_count": null,
   "metadata": {},
   "outputs": [],
   "source": [
    "############################ Decision Tree classifier with AdaBoost #####################################\n",
    " "
   ]
  },
  {
   "cell_type": "code",
   "execution_count": 22,
   "metadata": {},
   "outputs": [
    {
     "name": "stdout",
     "output_type": "stream",
     "text": [
      "Training set Accuracy: 0.99\n",
      "Testing set Accuracy: 0.99\n"
     ]
    }
   ],
   "source": [
    "clf = AdaBoostClassifier(DecisionTreeClassifier(max_depth=4),\n",
    "                          n_estimators=45, random_state=0)\n",
    "clf = clf.fit(x_train, y_train)\n",
    "y_results_clf = clf.predict(x_test)\n",
    "\n",
    "print(\"Training set Accuracy: {:.2f}\".format(clf.score(x_train , y_train)))\n",
    "print(\"Testing set Accuracy: {:.2f}\".format(clf.score(x_test , y_test)))"
   ]
  },
  {
   "cell_type": "code",
   "execution_count": 26,
   "metadata": {},
   "outputs": [
    {
     "data": {
      "image/png": "[encoded data removed]",
      "text/plain": [
       "<Figure size 396x288 with 2 Axes>"
      ]
     },
     "metadata": {
      "needs_background": "light"
     },
     "output_type": "display_data"
    }
   ],
   "source": [
    "cm = confusion_matrix(y_test, y_results_clf) \n",
    "\n",
    "cm_df = pandas.DataFrame(cm,\n",
    "                     index = ['DENIED','CERTIFIED'], \n",
    "                     columns = ['DENIED','CERTIFIED'])\n",
    "\n",
    "plt.figure(figsize=(5.5,4))\n",
    "sns.heatmap(cm_df, annot=True)\n",
    "plt.title('Accuracy:{0:.3f}'.format(accuracy_score(y_test, y_results_clf)))\n",
    "plt.ylabel('True label')\n",
    "plt.xlabel('Predicted label')\n",
    "plt.show()"
   ]
  },
  {
   "cell_type": "code",
   "execution_count": null,
   "metadata": {},
   "outputs": [],
   "source": [
    "############################## Bagging classifier Implementation ##################################"
   ]
  },
  {
   "cell_type": "code",
   "execution_count": 8,
   "metadata": {},
   "outputs": [
    {
     "name": "stdout",
     "output_type": "stream",
     "text": [
      "Training set Accuracy: 0.97\n",
      "Testing set Accuracy: 0.92\n",
      "Mean Absolute Error: 0.16\n"
     ]
    }
   ],
   "source": [
    "bag_clf = BaggingClassifier().fit(x_train, y_train)\n",
    "\n",
    "y_results_bag = bag_clf.predict(x_test)\n",
    "\n",
    "print(\"Training set Accuracy: {:.2f}\".format(bag_clf.score(x_train , y_train)))\n",
    "print(\"Testing set Accuracy: {:.2f}\".format(bag_clf.score(x_test , y_test)))\n",
    "print(\"Mean Absolute Error: {:.2f}\".format(mean_absolute_error(y_test , y_results_bag)))"
   ]
  },
  {
   "cell_type": "code",
   "execution_count": 9,
   "metadata": {},
   "outputs": [
    {
     "name": "stdout",
     "output_type": "stream",
     "text": [
      "[0.91552987 0.91577852 0.91635529 0.91647963 0.91440967]\n"
     ]
    }
   ],
   "source": [
    "results = sklearn.model_selection.cross_val_score(bag_clf, x_train, y_train, cv=5)\n",
    "print(results)"
   ]
  },
  {
   "cell_type": "code",
   "execution_count": 14,
   "metadata": {},
   "outputs": [
    {
     "name": "stdout",
     "output_type": "stream",
     "text": [
      "[0.97090465 0.97088584 0.97101695 0.97049032 0.97073428]\n"
     ]
    }
   ],
   "source": [
    "results = sklearn.model_selection.cross_val_score(bag_clf, x_test, y_results_bag, cv=5)\n",
    "print(results)"
   ]
  },
  {
   "cell_type": "code",
   "execution_count": null,
   "metadata": {},
   "outputs": [],
   "source": [
    "############################## GradientBoosting classifier Implementation ###########################"
   ]
  },
  {
   "cell_type": "code",
   "execution_count": null,
   "metadata": {},
   "outputs": [],
   "source": [
    "# In this model, I tried to explore many parameters, and with exponential loss and 0.3 as a learning rate, \n",
    "# I got good performance of the model (99% accuracy)"
   ]
  },
  {
   "cell_type": "code",
   "execution_count": 32,
   "metadata": {},
   "outputs": [
    {
     "name": "stdout",
     "output_type": "stream",
     "text": [
      "Training set Accuracy: 0.92\n",
      "Testing set Accuracy: 0.92\n",
      "Mean Absolute Error: 0.15\n"
     ]
    }
   ],
   "source": [
    "GB_Clf = GradientBoostingClassifier(learning_rate=0.3,n_estimators = 50, subsample=0.7).fit(x_train, y_train)\n",
    "\n",
    "y_results_GB = GB_Clf.predict(x_test)\n",
    "\n",
    "print(\"Training set Accuracy: {:.2f}\".format(GB_Clf.score(x_train , y_train)))\n",
    "print(\"Testing set Accuracy: {:.2f}\".format(GB_Clf.score(x_test , y_test)))\n",
    "print(\"Mean Absolute Error: {:.2f}\".format(mean_absolute_error(y_test , y_results_GB)))"
   ]
  },
  {
   "cell_type": "code",
   "execution_count": 46,
   "metadata": {},
   "outputs": [
    {
     "data": {
      "image/png": "[encoded data removed]",
      "text/plain": [
       "<IPython.core.display.Image object>"
      ]
     },
     "execution_count": 46,
     "metadata": {},
     "output_type": "execute_result"
    }
   ],
   "source": [
    "sub_tree_42 = GB_Clf.estimators_[42, 0]\n",
    "\n",
    "dot_data = tree.export_graphviz(\n",
    "    sub_tree_42,\n",
    "    out_file=None, filled=True,\n",
    "    rounded=True,  \n",
    "    special_characters=True,\n",
    "    proportion=True,\n",
    ")\n",
    "graph = pydotplus.graph_from_dot_data(dot_data)  \n",
    "Image(graph.create_png()) "
   ]
  },
  {
   "cell_type": "code",
   "execution_count": null,
   "metadata": {},
   "outputs": [],
   "source": [
    "############################### XGB classifier Implementation #############################"
   ]
  },
  {
   "cell_type": "code",
   "execution_count": 34,
   "metadata": {},
   "outputs": [
    {
     "name": "stdout",
     "output_type": "stream",
     "text": [
      "Training set Accuracy: 0.93\n",
      "Testing set Accuracy: 0.93\n",
      "Mean Absolute Error: 0.14\n"
     ]
    }
   ],
   "source": [
    "XGB_clf1 = XGBClassifier().fit(x_train, y_train)\n",
    "y_results_XGB1 = XGB_clf1.predict(x_test)\n",
    "\n",
    "print(\"Training set Accuracy: {:.2f}\".format(XGB_clf1.score(x_train , y_train)))\n",
    "print(\"Testing set Accuracy: {:.2f}\".format(XGB_clf1.score(x_test , y_test)))\n",
    "print(\"Mean Absolute Error: {:.2f}\".format(mean_absolute_error(y_test , y_results_XGB1)))"
   ]
  },
  {
   "cell_type": "code",
   "execution_count": null,
   "metadata": {},
   "outputs": [],
   "source": [
    "################### XGB classifier with parameter tuning ########################"
   ]
  },
  {
   "cell_type": "code",
   "execution_count": 22,
   "metadata": {},
   "outputs": [
    {
     "name": "stdout",
     "output_type": "stream",
     "text": [
      "Training set Accuracy: 0.90\n",
      "Testing set Accuracy: 0.90\n",
      "Mean Absolute Error: 0.16\n"
     ]
    }
   ],
   "source": [
    "XGB_clf = XGBClassifier(objective ='reg:linear', colsample_bytree = 0.3, learning_rate = 0.1,\n",
    "                max_depth = 5, alpha = 10, n_estimators = 50)\n",
    "XGB_clf_fit = XGB_clf.fit(x_train, y_train)\n",
    "y_results_XGB = XGB_clf.predict(x_test)\n",
    "\n",
    "print(\"Training set Accuracy: {:.2f}\".format(XGB_clf.score(x_train , y_train)))\n",
    "print(\"Testing set Accuracy: {:.2f}\".format(XGB_clf.score(x_test , y_test)))\n",
    "print(\"Mean Absolute Error: {:.2f}\".format(mean_absolute_error(y_test , y_results_XGB)))"
   ]
  },
  {
   "cell_type": "code",
   "execution_count": 23,
   "metadata": {},
   "outputs": [
    {
     "name": "stdout",
     "output_type": "stream",
     "text": [
      "[0.90341792 0.9036412  0.90361612 0.90352714 0.90363878]\n"
     ]
    }
   ],
   "source": [
    "results = sklearn.model_selection.cross_val_score(XGB_clf_fit, x_train, y_train, cv=5)\n",
    "print(results)"
   ]
  },
  {
   "cell_type": "code",
   "execution_count": 42,
   "metadata": {},
   "outputs": [
    {
     "data": {
      "image/png": "[encoded data removed]",
      "text/plain": [
       "<Figure size 432x288 with 1 Axes>"
      ]
     },
     "metadata": {
      "needs_background": "light"
     },
     "output_type": "display_data"
    }
   ],
   "source": [
    "plot_importance(XGB_clf, max_num_features=15) # top 10 most important features\n",
    "plt.show()"
   ]
  },
  {
   "cell_type": "code",
   "execution_count": null,
   "metadata": {},
   "outputs": [],
   "source": [
    "## It is observed that, XGB classifier model with default configuration performs better than \n",
    "# model with tuning parameter for this dataset. "
   ]
  },
  {
   "cell_type": "code",
   "execution_count": null,
   "metadata": {},
   "outputs": [],
   "source": [
    "# Also, from feature importance graph of XGB classifier, it is clear that Prevailing_wage and Employer_city play major role in \n",
    "# analysis and it seems logical if compared with day to day life."
   ]
  },
  {
   "cell_type": "code",
   "execution_count": null,
   "metadata": {},
   "outputs": [],
   "source": [
    "######################### Customized ensemble ###############################"
   ]
  },
  {
   "cell_type": "code",
   "execution_count": null,
   "metadata": {},
   "outputs": [],
   "source": [
    "# Out of all the models I tried, I got the lowest accuracy for bagging classifier and XGB classifier, \n",
    "# so I will be creating customized ensemble model with these two classifiers"
   ]
  },
  {
   "cell_type": "code",
   "execution_count": 27,
   "metadata": {},
   "outputs": [
    {
     "name": "stderr",
     "output_type": "stream",
     "text": [
      "[MLENS] backend: threading\n"
     ]
    },
    {
     "data": {
      "text/plain": [
       "SuperLearner(array_check=None, backend=None, folds=2,\n",
       "       layers=[Layer(backend='threading', dtype=<class 'numpy.float32'>, n_jobs=-1,\n",
       "   name='layer-1', propagate_features=None, raise_on_exception=True,\n",
       "   random_state=4782, shuffle=False,\n",
       "   stack=[Group(backend='threading', dtype=<class 'numpy.float32'>,\n",
       "   indexer=FoldIndex(X=None, folds=2, raise_on_ex...A9C73A8>)],\n",
       "   n_jobs=-1, name='group-0', raise_on_exception=True, transformers=[])],\n",
       "   verbose=1)],\n",
       "       model_selection=False, n_jobs=None, raise_on_exception=True,\n",
       "       random_state=555, sample_size=20,\n",
       "       scorer=<function accuracy_score at 0x000002209A9C73A8>,\n",
       "       shuffle=False, verbose=2)"
      ]
     },
     "execution_count": 27,
     "metadata": {},
     "output_type": "execute_result"
    }
   ],
   "source": [
    "from mlens.ensemble import SuperLearner\n",
    "from mlens.model_selection import Evaluator\n",
    "from mlens.metrics import make_scorer\n",
    "from sklearn.metrics import accuracy_score\n",
    "\n",
    "ensemble = SuperLearner(scorer=accuracy_score, random_state=555, verbose=2)\n",
    "ensemble.add([bag_clf, XGB_clf])\n"
   ]
  },
  {
   "cell_type": "code",
   "execution_count": 28,
   "metadata": {},
   "outputs": [
    {
     "data": {
      "text/plain": [
       "SuperLearner(array_check=None, backend=None, folds=2,\n",
       "       layers=[Layer(backend='threading', dtype=<class 'numpy.float32'>, n_jobs=-1,\n",
       "   name='layer-1', propagate_features=None, raise_on_exception=True,\n",
       "   random_state=4782, shuffle=False,\n",
       "   stack=[Group(backend='threading', dtype=<class 'numpy.float32'>,\n",
       "   indexer=FoldIndex(X=None, folds=2, raise_on_ex...A9C73A8>)],\n",
       "   n_jobs=-1, name='group-1', raise_on_exception=True, transformers=[])],\n",
       "   verbose=1)],\n",
       "       model_selection=False, n_jobs=None, raise_on_exception=True,\n",
       "       random_state=555, sample_size=20,\n",
       "       scorer=<function accuracy_score at 0x000002209A9C73A8>,\n",
       "       shuffle=False, verbose=2)"
      ]
     },
     "execution_count": 28,
     "metadata": {},
     "output_type": "execute_result"
    }
   ],
   "source": [
    "ensemble.add_meta(LogisticRegression())"
   ]
  },
  {
   "cell_type": "code",
   "execution_count": 29,
   "metadata": {},
   "outputs": [
    {
     "name": "stdout",
     "output_type": "stream",
     "text": [
      "\n",
      "Fitting 2 layers\n",
      "Processing layer-1             done | 00:03:06\n",
      "Processing layer-2             "
     ]
    },
    {
     "name": "stderr",
     "output_type": "stream",
     "text": [
      "C:\\Users\\Administrator\\Anaconda3\\lib\\site-packages\\sklearn\\linear_model\\logistic.py:432: FutureWarning: Default solver will be changed to 'lbfgs' in 0.22. Specify a solver to silence this warning.\n",
      "  FutureWarning)\n",
      "C:\\Users\\Administrator\\Anaconda3\\lib\\site-packages\\sklearn\\linear_model\\logistic.py:469: FutureWarning: Default multi_class will be changed to 'auto' in 0.22. Specify the multi_class option to silence this warning.\n",
      "  \"this warning.\", FutureWarning)\n"
     ]
    },
    {
     "name": "stdout",
     "output_type": "stream",
     "text": [
      "done | 00:00:02\n",
      "Fit complete                        | 00:03:09\n"
     ]
    },
    {
     "data": {
      "text/plain": [
       "SuperLearner(array_check=None, backend=None, folds=2,\n",
       "       layers=[Layer(backend='threading', dtype=<class 'numpy.float32'>, n_jobs=-1,\n",
       "   name='layer-1', propagate_features=None, raise_on_exception=True,\n",
       "   random_state=4782, shuffle=False,\n",
       "   stack=[Group(backend='threading', dtype=<class 'numpy.float32'>,\n",
       "   indexer=FoldIndex(X=None, folds=2, raise_on_ex...A9C73A8>)],\n",
       "   n_jobs=-1, name='group-1', raise_on_exception=True, transformers=[])],\n",
       "   verbose=1)],\n",
       "       model_selection=False, n_jobs=None, raise_on_exception=True,\n",
       "       random_state=555, sample_size=20,\n",
       "       scorer=<function accuracy_score at 0x000002209A9C73A8>,\n",
       "       shuffle=False, verbose=2)"
      ]
     },
     "execution_count": 29,
     "metadata": {},
     "output_type": "execute_result"
    }
   ],
   "source": [
    "ensemble.fit(x_train, y_train)"
   ]
  },
  {
   "cell_type": "code",
   "execution_count": 30,
   "metadata": {},
   "outputs": [
    {
     "name": "stdout",
     "output_type": "stream",
     "text": [
      "\n",
      "Predicting 2 layers\n",
      "Processing layer-1             done | 00:00:05\n",
      "Processing layer-2             done | 00:00:00\n",
      "Predict complete                    | 00:00:05\n",
      "Accuracy - Train :  0.9004411075083569\n",
      "\n",
      "Predicting 2 layers\n",
      "Processing layer-1             done | 00:00:04\n",
      "Processing layer-2             done | 00:00:00\n",
      "Predict complete                    | 00:00:04\n",
      "Accuracy - Test :  0.8925618591214463\n"
     ]
    }
   ],
   "source": [
    "print (\"Accuracy - Train : \", sklearn.metrics.accuracy_score(ensemble.predict(x_train), y_train))\n",
    "print (\"Accuracy - Test : \", sklearn.metrics.accuracy_score(ensemble.predict(x_test), y_test))"
   ]
  },
  {
   "cell_type": "code",
   "execution_count": 31,
   "metadata": {},
   "outputs": [
    {
     "name": "stdout",
     "output_type": "stream",
     "text": [
      "Fit data:\n",
      "                              score-m  score-s    ft-m  ft-s  pt-m  pt-s\n",
      "layer-1  baggingclassifier       0.92     0.00   73.78  1.38  3.46  0.17\n",
      "layer-1  xgbclassifier           0.90     0.00  105.92  1.26  2.93  0.13\n",
      "\n"
     ]
    }
   ],
   "source": [
    "print(\"Fit data:\\n%r\" % ensemble.data)"
   ]
  },
  {
   "cell_type": "code",
   "execution_count": null,
   "metadata": {},
   "outputs": [],
   "source": []
  },
  {
   "cell_type": "markdown",
   "metadata": {},
   "source": [
    "Result Analysis and Conclusion: \n",
    "1) After dropping the columns with more than average Nan values, there is not more to preprocess.\n",
    "2) Decision tree and Random Forest perform pretty good for the data set\n",
    "3) I obeserved that model is overfitting, hence I tried to regularize the data by using lasso\n",
    "4) As per XGB classifier feature importance plot, 'Prevailing_wage' and 'Employer_city' has the high importance which can be hold true as this factors affect many other features.\n",
    "5) Data cleaning and preprocessing has been done properly and hence almost all models are performing good with dataset"
   ]
  }
 ],
 "metadata": {
  "kernelspec": {
   "display_name": "Python 3",
   "language": "python",
   "name": "python3"
  },
  "language_info": {
   "codemirror_mode": {
    "name": "ipython",
    "version": 3
   },
   "file_extension": ".py",
   "mimetype": "text/x-python",
   "name": "python",
   "nbconvert_exporter": "python",
   "pygments_lexer": "ipython3",
   "version": "3.7.4"
  }
 },
 "nbformat": 4,
 "nbformat_minor": 2
}
